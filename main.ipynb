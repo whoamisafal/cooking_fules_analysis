{
 "cells": [
  {
   "cell_type": "markdown",
   "id": "e5973bb1-e732-42e3-ba48-1224ef47429b",
   "metadata": {},
   "source": [
    "<h1>Safal Shrestha</h1>"
   ]
  },
  {
   "cell_type": "code",
   "execution_count": 1,
   "id": "f059e053-8a50-4ace-b385-985f580987e7",
   "metadata": {
    "tags": []
   },
   "outputs": [],
   "source": [
    "#import required python packages such as pandas, seaborn, matplotlib \n",
    "import pandas as pd \n",
    "import seaborn as sns \n",
    "import matplotlib.pyplot as plt"
   ]
  },
  {
   "cell_type": "markdown",
   "id": "8bad58b2-74ab-4271-b550-960df8904f4a",
   "metadata": {
    "tags": []
   },
   "source": [
    "<h2>Descriptive Analysi</h2>"
   ]
  },
  {
   "cell_type": "markdown",
   "id": "99da1002-9223-4677-8a4c-eb4dbdc38494",
   "metadata": {},
   "source": [
    "<b>Load the Dataset</b>"
   ]
  },
  {
   "cell_type": "code",
   "execution_count": 2,
   "id": "cef82a89-0241-4816-ae20-e2eb8a3d19ba",
   "metadata": {
    "tags": []
   },
   "outputs": [],
   "source": [
    "# load the dataset using read_csv function \n",
    "data = pd.read_csv(\"datasets/cooking_fuel.csv\")"
   ]
  },
  {
   "cell_type": "code",
   "execution_count": 6,
   "id": "83b51901-d537-4dc7-a6dd-cfa1b51d1868",
   "metadata": {
    "tags": []
   },
   "outputs": [
    {
     "data": {
      "text/html": [
       "<div>\n",
       "<style scoped>\n",
       "    .dataframe tbody tr th:only-of-type {\n",
       "        vertical-align: middle;\n",
       "    }\n",
       "\n",
       "    .dataframe tbody tr th {\n",
       "        vertical-align: top;\n",
       "    }\n",
       "\n",
       "    .dataframe thead th {\n",
       "        text-align: right;\n",
       "    }\n",
       "</style>\n",
       "<table border=\"1\" class=\"dataframe\">\n",
       "  <thead>\n",
       "    <tr style=\"text-align: right;\">\n",
       "      <th></th>\n",
       "      <th>District</th>\n",
       "      <th>Province</th>\n",
       "      <th>Wood</th>\n",
       "      <th>Gas</th>\n",
       "      <th>Electricity</th>\n",
       "      <th>Cowdung</th>\n",
       "      <th>Biogas</th>\n",
       "      <th>Kerosene</th>\n",
       "      <th>Others</th>\n",
       "    </tr>\n",
       "  </thead>\n",
       "  <tbody>\n",
       "    <tr>\n",
       "      <th>0</th>\n",
       "      <td>Taplejung</td>\n",
       "      <td>Koshi</td>\n",
       "      <td>24630</td>\n",
       "      <td>3006</td>\n",
       "      <td>32</td>\n",
       "      <td>5</td>\n",
       "      <td>51</td>\n",
       "      <td>21</td>\n",
       "      <td>31</td>\n",
       "    </tr>\n",
       "    <tr>\n",
       "      <th>1</th>\n",
       "      <td>Sankhuwasabha</td>\n",
       "      <td>Koshi</td>\n",
       "      <td>32922</td>\n",
       "      <td>5907</td>\n",
       "      <td>61</td>\n",
       "      <td>3</td>\n",
       "      <td>171</td>\n",
       "      <td>41</td>\n",
       "      <td>13</td>\n",
       "    </tr>\n",
       "    <tr>\n",
       "      <th>2</th>\n",
       "      <td>Solukhumbu</td>\n",
       "      <td>Koshi</td>\n",
       "      <td>21785</td>\n",
       "      <td>3945</td>\n",
       "      <td>400</td>\n",
       "      <td>1</td>\n",
       "      <td>56</td>\n",
       "      <td>51</td>\n",
       "      <td>1</td>\n",
       "    </tr>\n",
       "    <tr>\n",
       "      <th>3</th>\n",
       "      <td>Okhaldhunga</td>\n",
       "      <td>Koshi</td>\n",
       "      <td>31285</td>\n",
       "      <td>2724</td>\n",
       "      <td>21</td>\n",
       "      <td>3</td>\n",
       "      <td>216</td>\n",
       "      <td>23</td>\n",
       "      <td>14</td>\n",
       "    </tr>\n",
       "    <tr>\n",
       "      <th>4</th>\n",
       "      <td>Khotang</td>\n",
       "      <td>Koshi</td>\n",
       "      <td>38030</td>\n",
       "      <td>3351</td>\n",
       "      <td>43</td>\n",
       "      <td>4</td>\n",
       "      <td>241</td>\n",
       "      <td>42</td>\n",
       "      <td>9</td>\n",
       "    </tr>\n",
       "  </tbody>\n",
       "</table>\n",
       "</div>"
      ],
      "text/plain": [
       "        District Province   Wood   Gas  Electricity  Cowdung  Biogas  \\\n",
       "0      Taplejung    Koshi  24630  3006           32        5      51   \n",
       "1  Sankhuwasabha    Koshi  32922  5907           61        3     171   \n",
       "2     Solukhumbu    Koshi  21785  3945          400        1      56   \n",
       "3    Okhaldhunga    Koshi  31285  2724           21        3     216   \n",
       "4        Khotang    Koshi  38030  3351           43        4     241   \n",
       "\n",
       "   Kerosene  Others  \n",
       "0        21      31  \n",
       "1        41      13  \n",
       "2        51       1  \n",
       "3        23      14  \n",
       "4        42       9  "
      ]
     },
     "execution_count": 6,
     "metadata": {},
     "output_type": "execute_result"
    }
   ],
   "source": [
    "data.head(5) # see the first five dataset "
   ]
  },
  {
   "cell_type": "code",
   "execution_count": 7,
   "id": "a2a8ef41-16a2-4e96-9f6d-ca0cbfee4763",
   "metadata": {
    "tags": []
   },
   "outputs": [
    {
     "name": "stdout",
     "output_type": "stream",
     "text": [
      "<class 'pandas.core.frame.DataFrame'>\n",
      "RangeIndex: 77 entries, 0 to 76\n",
      "Data columns (total 9 columns):\n",
      " #   Column       Non-Null Count  Dtype \n",
      "---  ------       --------------  ----- \n",
      " 0   District     77 non-null     object\n",
      " 1   Province     77 non-null     object\n",
      " 2   Wood         77 non-null     int64 \n",
      " 3   Gas          77 non-null     int64 \n",
      " 4   Electricity  77 non-null     int64 \n",
      " 5   Cowdung      77 non-null     int64 \n",
      " 6   Biogas       77 non-null     int64 \n",
      " 7   Kerosene     77 non-null     int64 \n",
      " 8   Others       77 non-null     int64 \n",
      "dtypes: int64(7), object(2)\n",
      "memory usage: 5.5+ KB\n"
     ]
    }
   ],
   "source": [
    "# check the dataset has non-null values or not \n",
    "data.info()"
   ]
  },
  {
   "cell_type": "code",
   "execution_count": 8,
   "id": "0e5b4000-1bff-41e3-9d2a-64a0a2775931",
   "metadata": {
    "tags": []
   },
   "outputs": [
    {
     "data": {
      "text/html": [
       "<div>\n",
       "<style scoped>\n",
       "    .dataframe tbody tr th:only-of-type {\n",
       "        vertical-align: middle;\n",
       "    }\n",
       "\n",
       "    .dataframe tbody tr th {\n",
       "        vertical-align: top;\n",
       "    }\n",
       "\n",
       "    .dataframe thead th {\n",
       "        text-align: right;\n",
       "    }\n",
       "</style>\n",
       "<table border=\"1\" class=\"dataframe\">\n",
       "  <thead>\n",
       "    <tr style=\"text-align: right;\">\n",
       "      <th></th>\n",
       "      <th>District</th>\n",
       "      <th>Province</th>\n",
       "      <th>Wood</th>\n",
       "      <th>Gas</th>\n",
       "      <th>Electricity</th>\n",
       "      <th>Cowdung</th>\n",
       "      <th>Biogas</th>\n",
       "      <th>Kerosene</th>\n",
       "      <th>Others</th>\n",
       "    </tr>\n",
       "  </thead>\n",
       "  <tbody>\n",
       "  </tbody>\n",
       "</table>\n",
       "</div>"
      ],
      "text/plain": [
       "Empty DataFrame\n",
       "Columns: [District, Province, Wood, Gas, Electricity, Cowdung, Biogas, Kerosene, Others]\n",
       "Index: []"
      ]
     },
     "execution_count": 8,
     "metadata": {},
     "output_type": "execute_result"
    }
   ],
   "source": [
    "# check for the duplicates \n",
    "data[data.duplicated()]"
   ]
  },
  {
   "cell_type": "code",
   "execution_count": 138,
   "id": "edd28957-c02c-4eea-ab31-a40f62e0501e",
   "metadata": {
    "tags": []
   },
   "outputs": [
    {
     "data": {
      "text/plain": [
       "(77, 10)"
      ]
     },
     "execution_count": 138,
     "metadata": {},
     "output_type": "execute_result"
    }
   ],
   "source": [
    "data.shape # total number of rows and columns"
   ]
  },
  {
   "cell_type": "code",
   "execution_count": 140,
   "id": "690bd7b8-f403-491b-842b-d12a7e261681",
   "metadata": {
    "tags": []
   },
   "outputs": [
    {
     "data": {
      "text/plain": [
       "770"
      ]
     },
     "execution_count": 140,
     "metadata": {},
     "output_type": "execute_result"
    }
   ],
   "source": [
    "data.size # total number of elements in the dataset"
   ]
  },
  {
   "cell_type": "code",
   "execution_count": 12,
   "id": "ff0114ac-7086-4fbc-a839-aeda182c20be",
   "metadata": {
    "tags": []
   },
   "outputs": [
    {
     "data": {
      "text/html": [
       "<div>\n",
       "<style scoped>\n",
       "    .dataframe tbody tr th:only-of-type {\n",
       "        vertical-align: middle;\n",
       "    }\n",
       "\n",
       "    .dataframe tbody tr th {\n",
       "        vertical-align: top;\n",
       "    }\n",
       "\n",
       "    .dataframe thead th {\n",
       "        text-align: right;\n",
       "    }\n",
       "</style>\n",
       "<table border=\"1\" class=\"dataframe\">\n",
       "  <thead>\n",
       "    <tr style=\"text-align: right;\">\n",
       "      <th></th>\n",
       "      <th>Wood</th>\n",
       "      <th>Gas</th>\n",
       "      <th>Electricity</th>\n",
       "      <th>Cowdung</th>\n",
       "      <th>Biogas</th>\n",
       "      <th>Kerosene</th>\n",
       "      <th>Others</th>\n",
       "    </tr>\n",
       "  </thead>\n",
       "  <tbody>\n",
       "    <tr>\n",
       "      <th>count</th>\n",
       "      <td>77.000000</td>\n",
       "      <td>77.000000</td>\n",
       "      <td>77.000000</td>\n",
       "      <td>77.000000</td>\n",
       "      <td>77.000000</td>\n",
       "      <td>77.000000</td>\n",
       "      <td>77.000000</td>\n",
       "    </tr>\n",
       "    <tr>\n",
       "      <th>mean</th>\n",
       "      <td>44133.974026</td>\n",
       "      <td>38311.623377</td>\n",
       "      <td>423.038961</td>\n",
       "      <td>2487.415584</td>\n",
       "      <td>1018.259740</td>\n",
       "      <td>42.818182</td>\n",
       "      <td>87.298701</td>\n",
       "    </tr>\n",
       "    <tr>\n",
       "      <th>std</th>\n",
       "      <td>24887.927232</td>\n",
       "      <td>69901.356684</td>\n",
       "      <td>696.420178</td>\n",
       "      <td>7167.881015</td>\n",
       "      <td>1891.960543</td>\n",
       "      <td>35.592994</td>\n",
       "      <td>195.011677</td>\n",
       "    </tr>\n",
       "    <tr>\n",
       "      <th>min</th>\n",
       "      <td>1058.000000</td>\n",
       "      <td>133.000000</td>\n",
       "      <td>1.000000</td>\n",
       "      <td>0.000000</td>\n",
       "      <td>14.000000</td>\n",
       "      <td>1.000000</td>\n",
       "      <td>1.000000</td>\n",
       "    </tr>\n",
       "    <tr>\n",
       "      <th>25%</th>\n",
       "      <td>25782.000000</td>\n",
       "      <td>3688.000000</td>\n",
       "      <td>30.000000</td>\n",
       "      <td>2.000000</td>\n",
       "      <td>120.000000</td>\n",
       "      <td>21.000000</td>\n",
       "      <td>11.000000</td>\n",
       "    </tr>\n",
       "    <tr>\n",
       "      <th>50%</th>\n",
       "      <td>42743.000000</td>\n",
       "      <td>13830.000000</td>\n",
       "      <td>91.000000</td>\n",
       "      <td>9.000000</td>\n",
       "      <td>325.000000</td>\n",
       "      <td>33.000000</td>\n",
       "      <td>23.000000</td>\n",
       "    </tr>\n",
       "    <tr>\n",
       "      <th>75%</th>\n",
       "      <td>57020.000000</td>\n",
       "      <td>46036.000000</td>\n",
       "      <td>717.000000</td>\n",
       "      <td>113.000000</td>\n",
       "      <td>939.000000</td>\n",
       "      <td>51.000000</td>\n",
       "      <td>52.000000</td>\n",
       "    </tr>\n",
       "    <tr>\n",
       "      <th>max</th>\n",
       "      <td>109720.000000</td>\n",
       "      <td>526931.000000</td>\n",
       "      <td>4694.000000</td>\n",
       "      <td>44715.000000</td>\n",
       "      <td>11902.000000</td>\n",
       "      <td>175.000000</td>\n",
       "      <td>1439.000000</td>\n",
       "    </tr>\n",
       "  </tbody>\n",
       "</table>\n",
       "</div>"
      ],
      "text/plain": [
       "                Wood            Gas  Electricity       Cowdung        Biogas  \\\n",
       "count      77.000000      77.000000    77.000000     77.000000     77.000000   \n",
       "mean    44133.974026   38311.623377   423.038961   2487.415584   1018.259740   \n",
       "std     24887.927232   69901.356684   696.420178   7167.881015   1891.960543   \n",
       "min      1058.000000     133.000000     1.000000      0.000000     14.000000   \n",
       "25%     25782.000000    3688.000000    30.000000      2.000000    120.000000   \n",
       "50%     42743.000000   13830.000000    91.000000      9.000000    325.000000   \n",
       "75%     57020.000000   46036.000000   717.000000    113.000000    939.000000   \n",
       "max    109720.000000  526931.000000  4694.000000  44715.000000  11902.000000   \n",
       "\n",
       "         Kerosene       Others  \n",
       "count   77.000000    77.000000  \n",
       "mean    42.818182    87.298701  \n",
       "std     35.592994   195.011677  \n",
       "min      1.000000     1.000000  \n",
       "25%     21.000000    11.000000  \n",
       "50%     33.000000    23.000000  \n",
       "75%     51.000000    52.000000  \n",
       "max    175.000000  1439.000000  "
      ]
     },
     "execution_count": 12,
     "metadata": {},
     "output_type": "execute_result"
    }
   ],
   "source": [
    "# describe the dataset which gives  count, mean, quartiles, mode, min, max,std \n",
    "data.describe()"
   ]
  },
  {
   "cell_type": "code",
   "execution_count": 94,
   "id": "1b183660-cfad-4f6b-b7e5-ba6ee7ef6562",
   "metadata": {
    "tags": []
   },
   "outputs": [],
   "source": [
    "# calculate the central tendency \n",
    "# mean, median and mode \n",
    "mean_values = data.mean(numeric_only=True)\n",
    "median_values = data.median(numeric_only= True)\n",
    "mode_values = data.mode(numeric_only=True).iloc[0]"
   ]
  },
  {
   "cell_type": "code",
   "execution_count": 14,
   "id": "9e8c72b8-631b-4323-aa41-357e9476f5d0",
   "metadata": {
    "tags": []
   },
   "outputs": [
    {
     "data": {
      "text/plain": [
       "Wood           44133.974026\n",
       "Gas            38311.623377\n",
       "Electricity      423.038961\n",
       "Cowdung         2487.415584\n",
       "Biogas          1018.259740\n",
       "Kerosene          42.818182\n",
       "Others            87.298701\n",
       "dtype: float64"
      ]
     },
     "execution_count": 14,
     "metadata": {},
     "output_type": "execute_result"
    }
   ],
   "source": [
    "mean_values"
   ]
  },
  {
   "cell_type": "code",
   "execution_count": 15,
   "id": "19df8e46-152d-4c71-b49c-23ae3d76c5ba",
   "metadata": {
    "tags": []
   },
   "outputs": [
    {
     "data": {
      "text/plain": [
       "Wood           42743.0\n",
       "Gas            13830.0\n",
       "Electricity       91.0\n",
       "Cowdung            9.0\n",
       "Biogas           325.0\n",
       "Kerosene          33.0\n",
       "Others            23.0\n",
       "dtype: float64"
      ]
     },
     "execution_count": 15,
     "metadata": {},
     "output_type": "execute_result"
    }
   ],
   "source": [
    "median_values"
   ]
  },
  {
   "cell_type": "code",
   "execution_count": 95,
   "id": "9a558732-f82d-41ec-8ef3-142aa11fdaaf",
   "metadata": {
    "tags": []
   },
   "outputs": [
    {
     "data": {
      "text/plain": [
       "Wood           1058.0\n",
       "Gas             133.0\n",
       "Electricity      36.0\n",
       "Cowdung           0.0\n",
       "Biogas           30.0\n",
       "Kerosene         12.0\n",
       "Others           10.0\n",
       "Name: 0, dtype: float64"
      ]
     },
     "execution_count": 95,
     "metadata": {},
     "output_type": "execute_result"
    }
   ],
   "source": [
    "mode_values"
   ]
  },
  {
   "cell_type": "code",
   "execution_count": 17,
   "id": "59bae1cf-579a-4537-9267-ab7d22aa5715",
   "metadata": {
    "tags": []
   },
   "outputs": [
    {
     "data": {
      "text/plain": [
       "Index(['District', 'Province', 'Wood', 'Gas', 'Electricity', 'Cowdung',\n",
       "       'Biogas', 'Kerosene', 'Others'],\n",
       "      dtype='object')"
      ]
     },
     "execution_count": 17,
     "metadata": {},
     "output_type": "execute_result"
    }
   ],
   "source": [
    "data.columns"
   ]
  },
  {
   "cell_type": "code",
   "execution_count": 21,
   "id": "62882962-089f-49e7-8203-af582eb31d49",
   "metadata": {
    "tags": []
   },
   "outputs": [],
   "source": [
    "# cooking fules used \n",
    "cooking_fules = ['Wood','Gas','Electricity','Cowdung','Biogas','Kerosene','Others'] "
   ]
  },
  {
   "cell_type": "code",
   "execution_count": 23,
   "id": "06ca66d1-d0d7-46b4-8132-9f765f449536",
   "metadata": {
    "tags": []
   },
   "outputs": [],
   "source": [
    "total_houses = {}"
   ]
  },
  {
   "cell_type": "code",
   "execution_count": 25,
   "id": "2065764d-1fa1-4793-984e-c78efbd047bb",
   "metadata": {
    "tags": []
   },
   "outputs": [],
   "source": [
    "for fule in cooking_fules:\n",
    "    total_houses[fule]= data[fule].sum()"
   ]
  },
  {
   "cell_type": "code",
   "execution_count": 119,
   "id": "84fe2bf7-306f-4519-8634-41871d7aac50",
   "metadata": {
    "tags": []
   },
   "outputs": [
    {
     "data": {
      "text/plain": [
       "{'Wood': 3398316,\n",
       " 'Gas': 2949995,\n",
       " 'Electricity': 32574,\n",
       " 'Cowdung': 191531,\n",
       " 'Biogas': 78406,\n",
       " 'Kerosene': 3297,\n",
       " 'Others': 6722}"
      ]
     },
     "execution_count": 119,
     "metadata": {},
     "output_type": "execute_result"
    }
   ],
   "source": [
    "total_houses"
   ]
  },
  {
   "cell_type": "code",
   "execution_count": 135,
   "id": "6a9d3143-8482-4d91-8652-98e00562bb11",
   "metadata": {
    "tags": []
   },
   "outputs": [
    {
     "name": "stdout",
     "output_type": "stream",
     "text": [
      "District        Achham\n",
      "Province       Bagmati\n",
      "Wood              1058\n",
      "Gas                133\n",
      "Electricity          1\n",
      "Cowdung              0\n",
      "Biogas              14\n",
      "Kerosene             1\n",
      "Others               1\n",
      "dis_total         1547\n",
      "dtype: object\n",
      "District           Udayapur\n",
      "Province       SudurPaschim\n",
      "Wood                 109720\n",
      "Gas                  526931\n",
      "Electricity            4694\n",
      "Cowdung               44715\n",
      "Biogas                11902\n",
      "Kerosene                175\n",
      "Others                 1439\n",
      "dis_total            542892\n",
      "dtype: object\n"
     ]
    }
   ],
   "source": [
    "# district with the highest and lowest number of households\n",
    "data['dis_total'] = data[cooking_fules].sum(axis=1)\n",
    "print(data.min())\n",
    "print(data.max())"
   ]
  },
  {
   "cell_type": "code",
   "execution_count": 129,
   "id": "515c1bad-d335-4253-ad7d-c0321fa73bb5",
   "metadata": {
    "tags": []
   },
   "outputs": [
    {
     "data": {
      "text/plain": [
       "District     Province      Wood   Gas    Electricity  Cowdung  Biogas  Kerosene  Others\n",
       "Achham       SudurPaschim  46350  2928   34           1        140     76        38        1\n",
       "Okhaldhunga  Koshi         31285  2724   21           3        216     23        14        1\n",
       "Rasuwa       Bagmati       7565   3517   17           0        25      3         4         1\n",
       "Ramechhap    Bagmati       40650  5555   40           3        171     37        10        1\n",
       "Pyuthan      Lumbini       49844  6102   68           8        126     33        14        1\n",
       "                                                                                          ..\n",
       "Ilam         Koshi         55179  14225  144          8        883     21        41        1\n",
       "Humla        Karnali       11035  133    8            0        14      8         6         1\n",
       "Gulmi        Lumbini       57020  8695   47           7        280     38        13        1\n",
       "Gorkha       Gandaki       45813  24460  126          31       1137    133       29        1\n",
       "Udayapur     Koshi         56565  23164  755          21       468     48        30        1\n",
       "Name: count, Length: 77, dtype: int64"
      ]
     },
     "execution_count": 129,
     "metadata": {},
     "output_type": "execute_result"
    }
   ],
   "source": [
    "# highest and lowest number of households using each type of cooking fuel\n",
    "data.value_counts()"
   ]
  },
  {
   "cell_type": "markdown",
   "id": "46f047f0-9ec7-4c44-8a75-8cb2898c0c68",
   "metadata": {},
   "source": [
    "<h2>Diagnostic Analysis</h2>"
   ]
  },
  {
   "cell_type": "code",
   "execution_count": 58,
   "id": "fca06066-37b3-4f1f-98d6-e0faefad9c9f",
   "metadata": {
    "tags": []
   },
   "outputs": [],
   "source": [
    "# group the data by Province \n",
    "group_by_province=  data.groupby('Province').sum()\n"
   ]
  },
  {
   "cell_type": "code",
   "execution_count": 49,
   "id": "816cf108-386b-48b0-ad2e-d704df4eae9d",
   "metadata": {
    "tags": []
   },
   "outputs": [],
   "source": [
    "provinces = data['Province'].unique() # get all the proviences "
   ]
  },
  {
   "cell_type": "code",
   "execution_count": 116,
   "id": "326cfbcc-cec2-49e2-8fb5-1dd1f8db1783",
   "metadata": {
    "tags": []
   },
   "outputs": [],
   "source": [
    "group_by_province['total'] = group_by_province[cooking_fules].sum(axis=1)\n",
    "# group_by_province.sum(axis=0)"
   ]
  },
  {
   "cell_type": "code",
   "execution_count": 143,
   "id": "fbdf8063-2a59-445e-9260-a30ec6b366bb",
   "metadata": {
    "tags": []
   },
   "outputs": [
    {
     "data": {
      "text/html": [
       "<div>\n",
       "<style scoped>\n",
       "    .dataframe tbody tr th:only-of-type {\n",
       "        vertical-align: middle;\n",
       "    }\n",
       "\n",
       "    .dataframe tbody tr th {\n",
       "        vertical-align: top;\n",
       "    }\n",
       "\n",
       "    .dataframe thead th {\n",
       "        text-align: right;\n",
       "    }\n",
       "</style>\n",
       "<table border=\"1\" class=\"dataframe\">\n",
       "  <thead>\n",
       "    <tr style=\"text-align: right;\">\n",
       "      <th></th>\n",
       "      <th>District</th>\n",
       "      <th>Wood</th>\n",
       "      <th>Gas</th>\n",
       "      <th>Electricity</th>\n",
       "      <th>Cowdung</th>\n",
       "      <th>Biogas</th>\n",
       "      <th>Kerosene</th>\n",
       "      <th>Others</th>\n",
       "      <th>total</th>\n",
       "    </tr>\n",
       "    <tr>\n",
       "      <th>Province</th>\n",
       "      <th></th>\n",
       "      <th></th>\n",
       "      <th></th>\n",
       "      <th></th>\n",
       "      <th></th>\n",
       "      <th></th>\n",
       "      <th></th>\n",
       "      <th></th>\n",
       "      <th></th>\n",
       "    </tr>\n",
       "  </thead>\n",
       "  <tbody>\n",
       "    <tr>\n",
       "      <th>Bagmati</th>\n",
       "      <td>DolakhaSindhupalchokRasuwaDhadingNuwakotKathma...</td>\n",
       "      <td>453987</td>\n",
       "      <td>1094195</td>\n",
       "      <td>8887</td>\n",
       "      <td>185</td>\n",
       "      <td>9342</td>\n",
       "      <td>755</td>\n",
       "      <td>566</td>\n",
       "      <td>1567917</td>\n",
       "    </tr>\n",
       "    <tr>\n",
       "      <th>Gandaki</th>\n",
       "      <td>GorkhaManangMustangMyagdiKaskiLamjungTanahuNaw...</td>\n",
       "      <td>311925</td>\n",
       "      <td>341017</td>\n",
       "      <td>1390</td>\n",
       "      <td>225</td>\n",
       "      <td>6548</td>\n",
       "      <td>315</td>\n",
       "      <td>212</td>\n",
       "      <td>661632</td>\n",
       "    </tr>\n",
       "    <tr>\n",
       "      <th>Karnali</th>\n",
       "      <td>DolpaMuguHumlaJumlaKalikotDailekhJajarkotRukum...</td>\n",
       "      <td>300962</td>\n",
       "      <td>61727</td>\n",
       "      <td>353</td>\n",
       "      <td>510</td>\n",
       "      <td>1623</td>\n",
       "      <td>648</td>\n",
       "      <td>214</td>\n",
       "      <td>366037</td>\n",
       "    </tr>\n",
       "    <tr>\n",
       "      <th>Koshi</th>\n",
       "      <td>TaplejungSankhuwasabhaSolukhumbuOkhaldhungaKho...</td>\n",
       "      <td>635672</td>\n",
       "      <td>490297</td>\n",
       "      <td>6177</td>\n",
       "      <td>40207</td>\n",
       "      <td>15682</td>\n",
       "      <td>468</td>\n",
       "      <td>2252</td>\n",
       "      <td>1190755</td>\n",
       "    </tr>\n",
       "    <tr>\n",
       "      <th>Lumbini</th>\n",
       "      <td>Rukum_EastRolpaPyuthanGulmiArghakhanchiPalpaNa...</td>\n",
       "      <td>612698</td>\n",
       "      <td>481748</td>\n",
       "      <td>4692</td>\n",
       "      <td>23686</td>\n",
       "      <td>17230</td>\n",
       "      <td>574</td>\n",
       "      <td>717</td>\n",
       "      <td>1141345</td>\n",
       "    </tr>\n",
       "    <tr>\n",
       "      <th>Madhesh</th>\n",
       "      <td>SaptariSirahaDhanusaMahottariSarlahiRautahatBa...</td>\n",
       "      <td>677732</td>\n",
       "      <td>331992</td>\n",
       "      <td>9468</td>\n",
       "      <td>126273</td>\n",
       "      <td>8252</td>\n",
       "      <td>303</td>\n",
       "      <td>2363</td>\n",
       "      <td>1156383</td>\n",
       "    </tr>\n",
       "    <tr>\n",
       "      <th>SudurPaschim</th>\n",
       "      <td>BajuraBajhangDarchulaBaitadiDadeldhuraDotiAchh...</td>\n",
       "      <td>405340</td>\n",
       "      <td>149019</td>\n",
       "      <td>1607</td>\n",
       "      <td>445</td>\n",
       "      <td>19729</td>\n",
       "      <td>234</td>\n",
       "      <td>398</td>\n",
       "      <td>576772</td>\n",
       "    </tr>\n",
       "  </tbody>\n",
       "</table>\n",
       "</div>"
      ],
      "text/plain": [
       "                                                       District    Wood  \\\n",
       "Province                                                                  \n",
       "Bagmati       DolakhaSindhupalchokRasuwaDhadingNuwakotKathma...  453987   \n",
       "Gandaki       GorkhaManangMustangMyagdiKaskiLamjungTanahuNaw...  311925   \n",
       "Karnali       DolpaMuguHumlaJumlaKalikotDailekhJajarkotRukum...  300962   \n",
       "Koshi         TaplejungSankhuwasabhaSolukhumbuOkhaldhungaKho...  635672   \n",
       "Lumbini       Rukum_EastRolpaPyuthanGulmiArghakhanchiPalpaNa...  612698   \n",
       "Madhesh       SaptariSirahaDhanusaMahottariSarlahiRautahatBa...  677732   \n",
       "SudurPaschim  BajuraBajhangDarchulaBaitadiDadeldhuraDotiAchh...  405340   \n",
       "\n",
       "                  Gas  Electricity  Cowdung  Biogas  Kerosene  Others    total  \n",
       "Province                                                                        \n",
       "Bagmati       1094195         8887      185    9342       755     566  1567917  \n",
       "Gandaki        341017         1390      225    6548       315     212   661632  \n",
       "Karnali         61727          353      510    1623       648     214   366037  \n",
       "Koshi          490297         6177    40207   15682       468    2252  1190755  \n",
       "Lumbini        481748         4692    23686   17230       574     717  1141345  \n",
       "Madhesh        331992         9468   126273    8252       303    2363  1156383  \n",
       "SudurPaschim   149019         1607      445   19729       234     398   576772  "
      ]
     },
     "execution_count": 143,
     "metadata": {},
     "output_type": "execute_result"
    }
   ],
   "source": [
    "#display the total usages of fule in each province \n",
    "group_by_province"
   ]
  },
  {
   "cell_type": "code",
   "execution_count": 159,
   "id": "8d2c534e-3190-454b-ac45-a45791509c77",
   "metadata": {
    "tags": []
   },
   "outputs": [
    {
     "data": {
      "text/html": [
       "<div>\n",
       "<style scoped>\n",
       "    .dataframe tbody tr th:only-of-type {\n",
       "        vertical-align: middle;\n",
       "    }\n",
       "\n",
       "    .dataframe tbody tr th {\n",
       "        vertical-align: top;\n",
       "    }\n",
       "\n",
       "    .dataframe thead th {\n",
       "        text-align: right;\n",
       "    }\n",
       "</style>\n",
       "<table border=\"1\" class=\"dataframe\">\n",
       "  <thead>\n",
       "    <tr style=\"text-align: right;\">\n",
       "      <th></th>\n",
       "      <th>Wood</th>\n",
       "      <th>Gas</th>\n",
       "      <th>Electricity</th>\n",
       "      <th>Cowdung</th>\n",
       "      <th>Biogas</th>\n",
       "      <th>Kerosene</th>\n",
       "      <th>Others</th>\n",
       "    </tr>\n",
       "    <tr>\n",
       "      <th>Province</th>\n",
       "      <th></th>\n",
       "      <th></th>\n",
       "      <th></th>\n",
       "      <th></th>\n",
       "      <th></th>\n",
       "      <th></th>\n",
       "      <th></th>\n",
       "    </tr>\n",
       "  </thead>\n",
       "  <tbody>\n",
       "    <tr>\n",
       "      <th>Bagmati</th>\n",
       "      <td>453987</td>\n",
       "      <td>1094195</td>\n",
       "      <td>8887</td>\n",
       "      <td>185</td>\n",
       "      <td>9342</td>\n",
       "      <td>755</td>\n",
       "      <td>566</td>\n",
       "    </tr>\n",
       "    <tr>\n",
       "      <th>Gandaki</th>\n",
       "      <td>311925</td>\n",
       "      <td>341017</td>\n",
       "      <td>1390</td>\n",
       "      <td>225</td>\n",
       "      <td>6548</td>\n",
       "      <td>315</td>\n",
       "      <td>212</td>\n",
       "    </tr>\n",
       "    <tr>\n",
       "      <th>Karnali</th>\n",
       "      <td>300962</td>\n",
       "      <td>61727</td>\n",
       "      <td>353</td>\n",
       "      <td>510</td>\n",
       "      <td>1623</td>\n",
       "      <td>648</td>\n",
       "      <td>214</td>\n",
       "    </tr>\n",
       "    <tr>\n",
       "      <th>Koshi</th>\n",
       "      <td>635672</td>\n",
       "      <td>490297</td>\n",
       "      <td>6177</td>\n",
       "      <td>40207</td>\n",
       "      <td>15682</td>\n",
       "      <td>468</td>\n",
       "      <td>2252</td>\n",
       "    </tr>\n",
       "    <tr>\n",
       "      <th>Lumbini</th>\n",
       "      <td>612698</td>\n",
       "      <td>481748</td>\n",
       "      <td>4692</td>\n",
       "      <td>23686</td>\n",
       "      <td>17230</td>\n",
       "      <td>574</td>\n",
       "      <td>717</td>\n",
       "    </tr>\n",
       "    <tr>\n",
       "      <th>Madhesh</th>\n",
       "      <td>677732</td>\n",
       "      <td>331992</td>\n",
       "      <td>9468</td>\n",
       "      <td>126273</td>\n",
       "      <td>8252</td>\n",
       "      <td>303</td>\n",
       "      <td>2363</td>\n",
       "    </tr>\n",
       "    <tr>\n",
       "      <th>SudurPaschim</th>\n",
       "      <td>405340</td>\n",
       "      <td>149019</td>\n",
       "      <td>1607</td>\n",
       "      <td>445</td>\n",
       "      <td>19729</td>\n",
       "      <td>234</td>\n",
       "      <td>398</td>\n",
       "    </tr>\n",
       "  </tbody>\n",
       "</table>\n",
       "</div>"
      ],
      "text/plain": [
       "                Wood      Gas  Electricity  Cowdung  Biogas  Kerosene  Others\n",
       "Province                                                                     \n",
       "Bagmati       453987  1094195         8887      185    9342       755     566\n",
       "Gandaki       311925   341017         1390      225    6548       315     212\n",
       "Karnali       300962    61727          353      510    1623       648     214\n",
       "Koshi         635672   490297         6177    40207   15682       468    2252\n",
       "Lumbini       612698   481748         4692    23686   17230       574     717\n",
       "Madhesh       677732   331992         9468   126273    8252       303    2363\n",
       "SudurPaschim  405340   149019         1607      445   19729       234     398"
      ]
     },
     "execution_count": 159,
     "metadata": {},
     "output_type": "execute_result"
    }
   ],
   "source": [
    "# commonly used and least used fules in each province \n",
    "group_by_province[cooking_fules]"
   ]
  },
  {
   "cell_type": "code",
   "execution_count": 70,
   "id": "ed64b7ca-da11-4b4e-b99e-3b07769591bc",
   "metadata": {
    "tags": []
   },
   "outputs": [],
   "source": [
    "# Compute the correlation \n",
    "correlation = data.corr(numeric_only=True) "
   ]
  },
  {
   "cell_type": "code",
   "execution_count": 71,
   "id": "b91a9a63-923d-48c8-ac91-829b94317cb6",
   "metadata": {
    "tags": []
   },
   "outputs": [
    {
     "data": {
      "text/html": [
       "<div>\n",
       "<style scoped>\n",
       "    .dataframe tbody tr th:only-of-type {\n",
       "        vertical-align: middle;\n",
       "    }\n",
       "\n",
       "    .dataframe tbody tr th {\n",
       "        vertical-align: top;\n",
       "    }\n",
       "\n",
       "    .dataframe thead th {\n",
       "        text-align: right;\n",
       "    }\n",
       "</style>\n",
       "<table border=\"1\" class=\"dataframe\">\n",
       "  <thead>\n",
       "    <tr style=\"text-align: right;\">\n",
       "      <th></th>\n",
       "      <th>Wood</th>\n",
       "      <th>Gas</th>\n",
       "      <th>Electricity</th>\n",
       "      <th>Cowdung</th>\n",
       "      <th>Biogas</th>\n",
       "      <th>Kerosene</th>\n",
       "      <th>Others</th>\n",
       "    </tr>\n",
       "  </thead>\n",
       "  <tbody>\n",
       "    <tr>\n",
       "      <th>Wood</th>\n",
       "      <td>1.000000</td>\n",
       "      <td>0.095643</td>\n",
       "      <td>0.351625</td>\n",
       "      <td>0.535028</td>\n",
       "      <td>0.535588</td>\n",
       "      <td>0.139832</td>\n",
       "      <td>0.585203</td>\n",
       "    </tr>\n",
       "    <tr>\n",
       "      <th>Gas</th>\n",
       "      <td>0.095643</td>\n",
       "      <td>1.000000</td>\n",
       "      <td>0.869487</td>\n",
       "      <td>0.130590</td>\n",
       "      <td>0.295369</td>\n",
       "      <td>0.318719</td>\n",
       "      <td>0.368057</td>\n",
       "    </tr>\n",
       "    <tr>\n",
       "      <th>Electricity</th>\n",
       "      <td>0.351625</td>\n",
       "      <td>0.869487</td>\n",
       "      <td>1.000000</td>\n",
       "      <td>0.400405</td>\n",
       "      <td>0.327468</td>\n",
       "      <td>0.263162</td>\n",
       "      <td>0.531395</td>\n",
       "    </tr>\n",
       "    <tr>\n",
       "      <th>Cowdung</th>\n",
       "      <td>0.535028</td>\n",
       "      <td>0.130590</td>\n",
       "      <td>0.400405</td>\n",
       "      <td>1.000000</td>\n",
       "      <td>0.095256</td>\n",
       "      <td>-0.091170</td>\n",
       "      <td>0.535855</td>\n",
       "    </tr>\n",
       "    <tr>\n",
       "      <th>Biogas</th>\n",
       "      <td>0.535588</td>\n",
       "      <td>0.295369</td>\n",
       "      <td>0.327468</td>\n",
       "      <td>0.095256</td>\n",
       "      <td>1.000000</td>\n",
       "      <td>-0.036218</td>\n",
       "      <td>0.368867</td>\n",
       "    </tr>\n",
       "    <tr>\n",
       "      <th>Kerosene</th>\n",
       "      <td>0.139832</td>\n",
       "      <td>0.318719</td>\n",
       "      <td>0.263162</td>\n",
       "      <td>-0.091170</td>\n",
       "      <td>-0.036218</td>\n",
       "      <td>1.000000</td>\n",
       "      <td>0.041261</td>\n",
       "    </tr>\n",
       "    <tr>\n",
       "      <th>Others</th>\n",
       "      <td>0.585203</td>\n",
       "      <td>0.368057</td>\n",
       "      <td>0.531395</td>\n",
       "      <td>0.535855</td>\n",
       "      <td>0.368867</td>\n",
       "      <td>0.041261</td>\n",
       "      <td>1.000000</td>\n",
       "    </tr>\n",
       "  </tbody>\n",
       "</table>\n",
       "</div>"
      ],
      "text/plain": [
       "                 Wood       Gas  Electricity   Cowdung    Biogas  Kerosene  \\\n",
       "Wood         1.000000  0.095643     0.351625  0.535028  0.535588  0.139832   \n",
       "Gas          0.095643  1.000000     0.869487  0.130590  0.295369  0.318719   \n",
       "Electricity  0.351625  0.869487     1.000000  0.400405  0.327468  0.263162   \n",
       "Cowdung      0.535028  0.130590     0.400405  1.000000  0.095256 -0.091170   \n",
       "Biogas       0.535588  0.295369     0.327468  0.095256  1.000000 -0.036218   \n",
       "Kerosene     0.139832  0.318719     0.263162 -0.091170 -0.036218  1.000000   \n",
       "Others       0.585203  0.368057     0.531395  0.535855  0.368867  0.041261   \n",
       "\n",
       "               Others  \n",
       "Wood         0.585203  \n",
       "Gas          0.368057  \n",
       "Electricity  0.531395  \n",
       "Cowdung      0.535855  \n",
       "Biogas       0.368867  \n",
       "Kerosene     0.041261  \n",
       "Others       1.000000  "
      ]
     },
     "execution_count": 71,
     "metadata": {},
     "output_type": "execute_result"
    }
   ],
   "source": [
    "correlation"
   ]
  },
  {
   "cell_type": "code",
   "execution_count": 78,
   "id": "b56d80a1-15fa-4932-b856-0a6221e563f0",
   "metadata": {
    "tags": []
   },
   "outputs": [
    {
     "data": {
      "image/png": "[encoded data removed]",
      "text/plain": [
       "<Figure size 640x480 with 2 Axes>"
      ]
     },
     "metadata": {},
     "output_type": "display_data"
    }
   ],
   "source": [
    "# heat map for the correlation \n",
    "sns.heatmap(correlation,annot=True,center=0)\n",
    "plt.title(\"Heat map of correlation of the cooking fule\")\n",
    "plt.show()"
   ]
  },
  {
   "cell_type": "markdown",
   "id": "f7dc747e-8f27-4812-a7cb-c385413dc387",
   "metadata": {
    "tags": []
   },
   "source": [
    "<h2> Data Visualization</h2>"
   ]
  },
  {
   "cell_type": "code",
   "execution_count": 142,
   "id": "ecf878eb-57c4-4a3f-bf2b-8e3179bec114",
   "metadata": {
    "tags": []
   },
   "outputs": [
    {
     "data": {
      "text/plain": [
       "<Figure size 1000x1000 with 0 Axes>"
      ]
     },
     "metadata": {},
     "output_type": "display_data"
    },
    {
     "data": {
      "image/png": "[encoded data removed]",
      "text/plain": [
       "<Figure size 640x480 with 1 Axes>"
      ]
     },
     "metadata": {},
     "output_type": "display_data"
    }
   ],
   "source": [
    "# Barchart \n",
    "plt.figure(figsize = (10,10))\n",
    "group_by_province[cooking_fules].plot(kind='bar')\n",
    "plt.title(\"Barchart of total number of households\")\n",
    "plt.show()"
   ]
  },
  {
   "cell_type": "code",
   "execution_count": 91,
   "id": "84ca41cb-e41c-4bfd-8bbe-8f8c70a48011",
   "metadata": {
    "tags": []
   },
   "outputs": [
    {
     "data": {
      "image/png": "[encoded data removed]",
      "text/plain": [
       "<Figure size 1000x1000 with 1 Axes>"
      ]
     },
     "metadata": {},
     "output_type": "display_data"
    }
   ],
   "source": [
    "plt.figure(figsize = (10,10))\n",
    "sns.boxplot(data)\n",
    "plt.title(\"Box Plot for the cooking fules\")\n",
    "plt.show()"
   ]
  },
  {
   "cell_type": "code",
   "execution_count": null,
   "id": "95d5b568-c60b-449e-b201-f9076eb01ff7",
   "metadata": {},
   "outputs": [],
   "source": []
  }
 ],
 "metadata": {
  "kernelspec": {
   "display_name": "Python 3 (ipykernel)",
   "language": "python",
   "name": "python3"
  },
  "language_info": {
   "codemirror_mode": {
    "name": "ipython",
    "version": 3
   },
   "file_extension": ".py",
   "mimetype": "text/x-python",
   "name": "python",
   "nbconvert_exporter": "python",
   "pygments_lexer": "ipython3",
   "version": "3.11.5"
  }
 },
 "nbformat": 4,
 "nbformat_minor": 5
}
